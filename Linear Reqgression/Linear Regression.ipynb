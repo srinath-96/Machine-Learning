{
 "cells": [
  {
   "cell_type": "code",
   "execution_count": 2,
   "metadata": {},
   "outputs": [],
   "source": [
    "#importing all the required packages\n",
    "import numpy as np\n",
    "import sklearn.datasets\n",
    "import matplotlib.pyplot as plt"
   ]
  },
  {
   "cell_type": "code",
   "execution_count": 65,
   "metadata": {},
   "outputs": [
    {
     "data": {
      "text/plain": [
       "array([[5.1],\n",
       "       [4.9],\n",
       "       [4.7],\n",
       "       [4.6],\n",
       "       [5. ],\n",
       "       [5.4],\n",
       "       [4.6],\n",
       "       [5. ],\n",
       "       [4.4],\n",
       "       [4.9]])"
      ]
     },
     "execution_count": 65,
     "metadata": {},
     "output_type": "execute_result"
    }
   ],
   "source": [
    "#importing iris data set and using 10 data points\n",
    "iris= datasets.load_iris()\n",
    "x=iris.data[0:10:,0:1]\n",
    "x"
   ]
  },
  {
   "cell_type": "code",
   "execution_count": 69,
   "metadata": {},
   "outputs": [
    {
     "data": {
      "text/plain": [
       "Text(0, 0.5, 'Dependednt Variable y')"
      ]
     },
     "execution_count": 69,
     "metadata": {},
     "output_type": "execute_result"
    },
    {
     "data": {
      "image/png": "[encoded data removed]",
      "text/plain": [
       "<Figure size 432x288 with 1 Axes>"
      ]
     },
     "metadata": {
      "needs_background": "light"
     },
     "output_type": "display_data"
    }
   ],
   "source": [
    "#taking slope m=6 and intercept c=10\n",
    "#y=6x+10\n",
    "#We use least square to project y to column vector of x\n",
    "m=6\n",
    "c=10\n",
    "y=m*x+c\n",
    "n=len(x) #number of data points\n",
    "\"\"\"let us generate n disturbing values from normal distribution with sigma=5 . That is, standard deviation =5\"\"\"\n",
    "noise=np.random.randn(n,1)\n",
    "yd=y+noise\n",
    "A=np.column_stack((x,np.ones((n,1))))\n",
    "Alpha=np.matmul(np.matmul(np.linalg.inv(np.matmul(A.T,A)),A.T),yd)#follows least square method \n",
    "ycap=np.matmul(A,Alpha) \n",
    "plt.scatter(x,yd,marker='o')#Plotting scattered data points\n",
    "plt.plot(x,ycap,c='r') #Plotting the regression line\n",
    "\n",
    "plt.xlabel(\"Independent Variable x\")\n",
    "plt.ylabel(\"Dependednt Variable y\")"
   ]
  },
  {
   "cell_type": "code",
   "execution_count": null,
   "metadata": {},
   "outputs": [],
   "source": []
  }
 ],
 "metadata": {
  "kernelspec": {
   "display_name": "Python 3",
   "language": "python",
   "name": "python3"
  },
  "language_info": {
   "codemirror_mode": {
    "name": "ipython",
    "version": 3
   },
   "file_extension": ".py",
   "mimetype": "text/x-python",
   "name": "python",
   "nbconvert_exporter": "python",
   "pygments_lexer": "ipython3",
   "version": "3.7.4"
  }
 },
 "nbformat": 4,
 "nbformat_minor": 2
}
